{
 "cells": [
  {
   "cell_type": "code",
   "execution_count": 1,
   "metadata": {},
   "outputs": [
    {
     "name": "stdout",
     "output_type": "stream",
     "text": [
      "1\n",
      "2\n",
      "3\n",
      "4\n",
      "5\n"
     ]
    }
   ],
   "source": [
    "#1 - Which two operator overloading methods can you use in your classes to support iteration?\n",
    "#Answer:\n",
    "'''To support iteration in your classes, you can use the following two operator overloading methods:\n",
    "\n",
    "__iter__(self): This method allows an object to be iterable. It should return an iterator object that defines the __next__() method, which is \n",
    "responsible for returning the next item in the iteration. The __iter__() method is called when the iter() function is invoked on an object or \n",
    "when the object is used in a for loop.\n",
    "\n",
    "__next__(self): This method is used by the iterator object returned by the __iter__() method to retrieve the next item in the iteration. It \n",
    "should raise the StopIteration exception when there are no more items to iterate over.'''\n",
    "\n",
    "#Exp:\n",
    "class MyIterable:\n",
    "    def __init__(self, data):\n",
    "        self.data = data\n",
    "        self.index = 0\n",
    "    \n",
    "    def __iter__(self):\n",
    "        return self\n",
    "    \n",
    "    def __next__(self):\n",
    "        if self.index >= len(self.data):\n",
    "            raise StopIteration\n",
    "        item = self.data[self.index]\n",
    "        self.index += 1\n",
    "        return item\n",
    "\n",
    "# Creating an instance of the iterable class\n",
    "my_iterable = MyIterable([1, 2, 3, 4, 5])\n",
    "\n",
    "# Iterating over the instance using a for loop\n",
    "for item in my_iterable:\n",
    "    print(item)\n"
   ]
  },
  {
   "cell_type": "code",
   "execution_count": 2,
   "metadata": {},
   "outputs": [
    {
     "name": "stdout",
     "output_type": "stream",
     "text": [
      "MyClass instance with value: 42\n",
      "MyClass(42)\n"
     ]
    }
   ],
   "source": [
    "#Q2 - In what contexts do the two operator overloading methods manage printing?\n",
    "#Answer:\n",
    "'''The two operator overloading methods that manage printing in Python are __str__() and __repr__().\n",
    "\n",
    "__str__(self): This method is used to provide a human-readable string representation of an object. It is called by the built-in str() \n",
    "function and is typically used for displaying the object to end-users or in situations where a readable representation is desired. \n",
    "The __str__() method should return a string.\n",
    "\n",
    "__repr__(self): This method is used to provide a string representation of an object that can be used to recreate the object. \n",
    "It is called by the built-in repr() function and is primarily used for debugging or developer-oriented purposes. The __repr__() method should \n",
    "return a string that is a valid Python expression representing the object.'''\n",
    "\n",
    "#Exp:\n",
    "class MyClass:\n",
    "    def __init__(self, value):\n",
    "        self.value = value\n",
    "    \n",
    "    def __str__(self):\n",
    "        return f\"MyClass instance with value: {self.value}\"\n",
    "    \n",
    "    def __repr__(self):\n",
    "        return f\"MyClass({self.value})\"\n",
    "\n",
    "# Creating an instance of the class\n",
    "my_instance = MyClass(42)\n",
    "\n",
    "# Printing the instance using str() and repr()\n",
    "print(str(my_instance))\n",
    "print(repr(my_instance))\n"
   ]
  },
  {
   "cell_type": "code",
   "execution_count": 3,
   "metadata": {},
   "outputs": [
    {
     "name": "stdout",
     "output_type": "stream",
     "text": [
      "[2, 4]\n"
     ]
    }
   ],
   "source": [
    "#Q3. In a class, how do you intercept slice operations?\n",
    "#Answer:\n",
    "'''To intercept slice operations in a class, you can use the __getitem__() method and handle slice objects specifically. The __getitem__() \n",
    "method allows objects to support indexing and slicing operations when accessed using square brackets ([]).'''\n",
    "\n",
    "#Exp:\n",
    "class MyList:\n",
    "    def __init__(self, data):\n",
    "        self.data = data\n",
    "    \n",
    "    def __getitem__(self, index):\n",
    "        if isinstance(index, slice):\n",
    "            # Handle slice operation\n",
    "            start, stop, step = index.indices(len(self.data))\n",
    "            return [self.data[i] for i in range(start, stop, step)]\n",
    "        else:\n",
    "            # Handle single index access\n",
    "            return self.data[index]\n",
    "\n",
    "# Creating an instance of the class\n",
    "my_list = MyList([1, 2, 3, 4, 5])\n",
    "\n",
    "# Performing slice operation using square brackets\n",
    "sliced_data = my_list[1:4:2]\n",
    "print(sliced_data)\n"
   ]
  },
  {
   "cell_type": "code",
   "execution_count": 4,
   "metadata": {},
   "outputs": [
    {
     "name": "stdout",
     "output_type": "stream",
     "text": [
      "8\n",
      "10\n"
     ]
    }
   ],
   "source": [
    "#Q4. In a class, how do you capture in-place addition?\n",
    "#Answer:\n",
    "'''To capture in-place addition in a class, you can use the __iadd__() method. The __iadd__() method is an in-place addition operator \n",
    "overloading method that is called when the += operator is used on an instance of the class.'''\n",
    "\n",
    "#Exp:\n",
    "class MyNumber:\n",
    "    def __init__(self, value):\n",
    "        self.value = value\n",
    "    \n",
    "    def __iadd__(self, other):\n",
    "        if isinstance(other, MyNumber):\n",
    "            self.value += other.value\n",
    "        else:\n",
    "            self.value += other\n",
    "        return self\n",
    "\n",
    "# Creating an instance of the class\n",
    "num1 = MyNumber(5)\n",
    "\n",
    "# Performing in-place addition using +=\n",
    "num2 = MyNumber(3)\n",
    "num1 += num2\n",
    "print(num1.value)  # Output: 8\n",
    "\n",
    "# Performing in-place addition with a different type\n",
    "num1 += 2\n",
    "print(num1.value)\n"
   ]
  },
  {
   "cell_type": "code",
   "execution_count": null,
   "metadata": {},
   "outputs": [],
   "source": [
    "#Q5 - When is it appropriate to use operator overloading?\n",
    "#Answer:\n",
    "Operator overloading is appropriate to use in situations where it enhances the clarity, expressiveness, and usability of your code. Here are a few scenarios where operator overloading can be beneficial:\n",
    "\n",
    "- Emulating built-in types: If you are creating a custom class that represents a concept similar to a built-in type (e.g., numbers, sequences, \n",
    "containers), operator overloading can allow instances of your class to behave similarly to built-in types. This can make your code more intuitive \n",
    "and align with the expected behavior of those types.\n",
    "\n",
    "- Domain-specific operations: If your class represents a domain-specific concept or data structure, operator overloading can enable you to \n",
    "define operations that are specific to that domain. For example, if you have a Vector class, you can overload operators such as +, -, * \n",
    "to define vector addition, subtraction, and scalar multiplication.\n",
    "\n",
    "- Simplifying complex operations: Operator overloading can be useful when dealing with complex operations that involve multiple steps or \n",
    "custom logic. By overloading operators, you can encapsulate the complexity within the class and provide a more concise and readable syntax \n",
    "for performing those operations.\n",
    "\n",
    "- Code readability and maintainability: Operator overloading can make your code more expressive and self-explanatory. It can reduce the \n",
    "need for explicit method calls or function invocations, making the code easier to read and understand. Additionally, it can enhance code \n",
    "maintainability by centralizing the logic related to an operation within the class, rather than scattering it across different parts of \n",
    "the codebase."
   ]
  }
 ],
 "metadata": {
  "kernelspec": {
   "display_name": "Python 3.9.6 64-bit",
   "language": "python",
   "name": "python3"
  },
  "language_info": {
   "codemirror_mode": {
    "name": "ipython",
    "version": 3
   },
   "file_extension": ".py",
   "mimetype": "text/x-python",
   "name": "python",
   "nbconvert_exporter": "python",
   "pygments_lexer": "ipython3",
   "version": "3.9.6"
  },
  "orig_nbformat": 4,
  "vscode": {
   "interpreter": {
    "hash": "31f2aee4e71d21fbe5cf8b01ff0e069b9275f58929596ceb00d14d90e3e16cd6"
   }
  }
 },
 "nbformat": 4,
 "nbformat_minor": 2
}
